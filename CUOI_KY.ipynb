{
  "cells": [
    {
      "cell_type": "markdown",
      "metadata": {
        "id": "view-in-github",
        "colab_type": "text"
      },
      "source": [
        "<a href=\"https://colab.research.google.com/github/DangPhan23/Final_Exams/blob/main/CUOI_KY.ipynb\" target=\"_parent\"><img src=\"https://colab.research.google.com/assets/colab-badge.svg\" alt=\"Open In Colab\"/></a>"
      ]
    },
    {
      "cell_type": "code",
      "execution_count": 1,
      "metadata": {
        "id": "3s6s77jnlNzz"
      },
      "outputs": [],
      "source": [
        "#Khai báo các thư viện\n",
        "import os\n",
        "import numpy as np\n",
        "import pandas as pd\n",
        "import matplotlib.pyplot as plt\n",
        "from PIL import Image\n",
        "from sklearn.model_selection import train_test_split\n",
        "from tensorflow.keras.utils import to_categorical\n",
        "from keras.layers import Conv2D, Dense, Flatten, MaxPool2D, Dropout\n",
        "from keras.models import Sequential\n",
        "from keras.optimizers import Adam\n",
        "from sklearn.metrics import accuracy_score\n"
      ]
    },
    {
      "cell_type": "code",
      "execution_count": 2,
      "metadata": {
        "id": "LhYwtT7un-Ue",
        "colab": {
          "base_uri": "https://localhost:8080/"
        },
        "outputId": "82fbfd92-d1f7-491e-d5b8-4e1f3fe84c15"
      },
      "outputs": [
        {
          "output_type": "stream",
          "name": "stdout",
          "text": [
            "(39253, 30, 30, 3) (39253,)\n"
          ]
        }
      ],
      "source": [
        "# Truy xuất hình ảnh và nhãn của ảnh\n",
        "image_path=r\"/content/drive/MyDrive/AI/dulieu/Train\"\n",
        "data = []\n",
        "labels = []\n",
        "classes = 43\n",
        "for i in range(classes):\n",
        "    path = os.path.join(image_path, str(i)) #0-42\n",
        "    images = os.listdir(path)\n",
        "    for img in images:\n",
        "        try:\n",
        "          image = Image.open(path +'/'+ img)\n",
        "          image = image.resize((30,30))\n",
        "          image = np.array(image)\n",
        "          data.append(image)\n",
        "          labels.append(i)\n",
        "        except:\n",
        "          print(\"Error loading image\")\n",
        "#Chuyển đổi danh sách thành mảng có nhiều mảng\n",
        "data = np.array(data)\n",
        "labels = np.array(labels)\n",
        "print(data.shape, labels.shape) "
      ]
    },
    {
      "cell_type": "code",
      "execution_count": 3,
      "metadata": {
        "id": "sDdzLuRboKja",
        "colab": {
          "base_uri": "https://localhost:8080/"
        },
        "outputId": "5f430b12-d79a-4b69-abb2-b2fbe3a1616e"
      },
      "outputs": [
        {
          "output_type": "stream",
          "name": "stdout",
          "text": [
            "training shape:  (31402, 30, 30, 3) (31402,)\n",
            "testing shape:  (7851, 30, 30, 3) (7851,)\n"
          ]
        }
      ],
      "source": [
        "#Chia tập dữ liệu huấn luyện và thử nghiệm\n",
        "x_train, x_test, y_train, y_test = train_test_split(data, labels, test_size=0.2, random_state=42)\n",
        "print(\"training shape: \",x_train.shape, y_train.shape)\n",
        "print(\"testing shape: \",x_test.shape, y_test.shape)"
      ]
    },
    {
      "cell_type": "code",
      "execution_count": 4,
      "metadata": {
        "id": "bTraQyEXoM5E"
      },
      "outputs": [],
      "source": [
        "#Chuyển đổi nhãn thành một mã\n",
        "y_train = to_categorical(y_train, 43)\n",
        "y_test = to_categorical(y_test, 43)"
      ]
    },
    {
      "cell_type": "code",
      "execution_count": 5,
      "metadata": {
        "id": "vnn6D0LvodLR",
        "colab": {
          "base_uri": "https://localhost:8080/"
        },
        "outputId": "45e9dde2-bbe2-4314-c87e-1aefbf746d78"
      },
      "outputs": [
        {
          "output_type": "stream",
          "name": "stdout",
          "text": [
            "Model: \"sequential\"\n",
            "_________________________________________________________________\n",
            " Layer (type)                Output Shape              Param #   \n",
            "=================================================================\n",
            " conv2d (Conv2D)             (None, 26, 26, 32)        2432      \n",
            "                                                                 \n",
            " conv2d_1 (Conv2D)           (None, 24, 24, 64)        18496     \n",
            "                                                                 \n",
            " max_pooling2d (MaxPooling2D  (None, 12, 12, 64)       0         \n",
            " )                                                               \n",
            "                                                                 \n",
            " dropout (Dropout)           (None, 12, 12, 64)        0         \n",
            "                                                                 \n",
            " conv2d_2 (Conv2D)           (None, 10, 10, 64)        36928     \n",
            "                                                                 \n",
            " max_pooling2d_1 (MaxPooling  (None, 5, 5, 64)         0         \n",
            " 2D)                                                             \n",
            "                                                                 \n",
            " dropout_1 (Dropout)         (None, 5, 5, 64)          0         \n",
            "                                                                 \n",
            " flatten (Flatten)           (None, 1600)              0         \n",
            "                                                                 \n",
            " dense (Dense)               (None, 256)               409856    \n",
            "                                                                 \n",
            " dropout_2 (Dropout)         (None, 256)               0         \n",
            "                                                                 \n",
            " dense_1 (Dense)             (None, 43)                11051     \n",
            "                                                                 \n",
            "=================================================================\n",
            "Total params: 478,763\n",
            "Trainable params: 478,763\n",
            "Non-trainable params: 0\n",
            "_________________________________________________________________\n"
          ]
        }
      ],
      "source": [
        "#Xây dựng mô hình\n",
        "model = Sequential()\n",
        "model.add(Conv2D(filters=32, kernel_size=(5,5), activation='relu', input_shape=x_train.shape[1:]))\n",
        "model.add(Conv2D(filters=64, kernel_size=(3, 3), activation='relu'))\n",
        "model.add(MaxPool2D(pool_size=(2, 2)))\n",
        "model.add(Dropout(rate=0.25))\n",
        "model.add(Conv2D(filters=64, kernel_size=(3, 3), activation='relu'))\n",
        "model.add(MaxPool2D(pool_size=(2, 2)))\n",
        "model.add(Dropout(rate=0.25))\n",
        "model.add(Flatten())\n",
        "model.add(Dense(256, activation='relu'))\n",
        "model.add(Dropout(rate=0.5))\n",
        "model.add(Dense(43, activation='softmax'))\n",
        "model.summary()"
      ]
    },
    {
      "cell_type": "code",
      "execution_count": 6,
      "metadata": {
        "id": "Qq7u8ayY1Wq_",
        "colab": {
          "base_uri": "https://localhost:8080/"
        },
        "outputId": "9f55bbc7-6212-4df0-9a89-78eab7c850d9"
      },
      "outputs": [
        {
          "output_type": "stream",
          "name": "stdout",
          "text": [
            "Epoch 1/15\n",
            "491/491 [==============================] - 16s 9ms/step - loss: 2.5789 - accuracy: 0.4380 - val_loss: 0.4607 - val_accuracy: 0.8884\n",
            "Epoch 2/15\n",
            "491/491 [==============================] - 4s 8ms/step - loss: 0.5634 - accuracy: 0.8374 - val_loss: 0.1487 - val_accuracy: 0.9694\n",
            "Epoch 3/15\n",
            "491/491 [==============================] - 4s 8ms/step - loss: 0.3005 - accuracy: 0.9165 - val_loss: 0.0598 - val_accuracy: 0.9836\n",
            "Epoch 4/15\n",
            "491/491 [==============================] - 3s 7ms/step - loss: 0.2100 - accuracy: 0.9433 - val_loss: 0.0444 - val_accuracy: 0.9883\n",
            "Epoch 5/15\n",
            "491/491 [==============================] - 4s 8ms/step - loss: 0.1758 - accuracy: 0.9518 - val_loss: 0.0414 - val_accuracy: 0.9901\n",
            "Epoch 6/15\n",
            "491/491 [==============================] - 4s 8ms/step - loss: 0.1646 - accuracy: 0.9547 - val_loss: 0.0558 - val_accuracy: 0.9864\n",
            "Epoch 7/15\n",
            "491/491 [==============================] - 4s 8ms/step - loss: 0.1510 - accuracy: 0.9598 - val_loss: 0.0317 - val_accuracy: 0.9910\n",
            "Epoch 8/15\n",
            "491/491 [==============================] - 4s 7ms/step - loss: 0.1312 - accuracy: 0.9641 - val_loss: 0.0263 - val_accuracy: 0.9938\n",
            "Epoch 9/15\n",
            "491/491 [==============================] - 4s 8ms/step - loss: 0.1486 - accuracy: 0.9626 - val_loss: 0.0614 - val_accuracy: 0.9847\n",
            "Epoch 10/15\n",
            "491/491 [==============================] - 3s 7ms/step - loss: 0.1443 - accuracy: 0.9632 - val_loss: 0.0315 - val_accuracy: 0.9917\n",
            "Epoch 11/15\n",
            "491/491 [==============================] - 3s 7ms/step - loss: 0.1412 - accuracy: 0.9644 - val_loss: 0.0320 - val_accuracy: 0.9911\n",
            "Epoch 12/15\n",
            "491/491 [==============================] - 4s 8ms/step - loss: 0.1407 - accuracy: 0.9661 - val_loss: 0.0544 - val_accuracy: 0.9874\n",
            "Epoch 13/15\n",
            "491/491 [==============================] - 4s 8ms/step - loss: 0.1589 - accuracy: 0.9616 - val_loss: 0.0228 - val_accuracy: 0.9934\n",
            "Epoch 14/15\n",
            "491/491 [==============================] - 3s 7ms/step - loss: 0.1355 - accuracy: 0.9673 - val_loss: 0.0182 - val_accuracy: 0.9957\n",
            "Epoch 15/15\n",
            "491/491 [==============================] - 4s 7ms/step - loss: 0.1034 - accuracy: 0.9753 - val_loss: 0.0404 - val_accuracy: 0.9911\n"
          ]
        }
      ],
      "source": [
        "#Đào tạo mô hình\n",
        "model.compile(loss='categorical_crossentropy', optimizer='adam', metrics=['accuracy'])\n",
        "epochs = 15\n",
        "history = model.fit(x_train, y_train, epochs=epochs, batch_size=64, validation_data=(x_test, y_test))"
      ]
    },
    {
      "cell_type": "code",
      "source": [
        "#testing accuracy on test dataset\n",
        "y_test = pd.read_csv('/content/drive/MyDrive/AI/dulieu/Test.csv')\n",
        "labels = y_test[\"ClassId\"].values\n",
        "imgs = y_test[\"Path\"].values\n",
        "data=[]\n",
        "for img in imgs:\n",
        "   image = Image.open(img)\n",
        "   image = image.resize((30,30))\n",
        "   data.append(np.array(image))\n",
        "X_test=np.array(data)\n",
        "predict_x = model.predict(X_test) \n",
        "pred = np.argmax(predict_x,axis=1)\n",
        "#Accuracy with the test data\n",
        "print(\"Độ chính xác của mô hình: \",accuracy_score(labels, pred)*100)"
      ],
      "metadata": {
        "id": "kqhVG3lOjPyE",
        "colab": {
          "base_uri": "https://localhost:8080/"
        },
        "outputId": "1fa57fde-094a-4624-e654-1538d63c159f"
      },
      "execution_count": 7,
      "outputs": [
        {
          "output_type": "stream",
          "name": "stdout",
          "text": [
            "7/7 [==============================] - 0s 17ms/step\n",
            "Độ chính xác của mô hình:  96.4824120603015\n"
          ]
        }
      ]
    },
    {
      "cell_type": "code",
      "execution_count": null,
      "metadata": {
        "id": "liiPfRVgqAiL"
      },
      "outputs": [],
      "source": [
        "\n",
        "model.save('/content/drive/MyDrive/AI/dulieu/traffic_classifier.h5')#to save"
      ]
    }
  ],
  "metadata": {
    "accelerator": "GPU",
    "colab": {
      "provenance": [],
      "gpuType": "T4",
      "mount_file_id": "1DlGHs5CYfVhLb7A-X-byNbWTWYMNUqrS",
      "authorship_tag": "ABX9TyOSlJVHnlWVPqhm78YuR5+n",
      "include_colab_link": true
    },
    "gpuClass": "standard",
    "kernelspec": {
      "display_name": "Python 3",
      "name": "python3"
    },
    "language_info": {
      "name": "python"
    }
  },
  "nbformat": 4,
  "nbformat_minor": 0
}